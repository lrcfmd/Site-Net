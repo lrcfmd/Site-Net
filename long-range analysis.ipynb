{
 "cells": [
  {
   "attachments": {},
   "cell_type": "markdown",
   "metadata": {},
   "source": [
    "This notebook allows the complexity / long-range coefficient plots to be reconstructed. Please note this process is non-trivial and requires the use of an external software package CrystIT. The instructions have been provided here to ensure complete reproducability.\n",
    "\n",
    "Import relevant libraries. Please set the number of cpu cores you wish to dedicate to the notebook in the code block below. The default is 1."
   ]
  },
  {
   "cell_type": "code",
   "execution_count": null,
   "metadata": {},
   "outputs": [],
   "source": [
    "import pandas as pd\n",
    "import pymatgen as pyg\n",
    "import matplotlib.pyplot as plt\n",
    "import pickle as pk\n",
    "import numpy as np\n",
    "from tqdm import tqdm\n",
    "import sklearn\n",
    "import matplotlib as mlp\n",
    "\n",
    "from matplotlib.ticker import (MultipleLocator, AutoMinorLocator)\n",
    "plt.style.use(['science',\"no-latex\"])\n",
    "mlp.rc('font', family='sans-serif') \n",
    "\n",
    "tqdm.pandas()\n",
    "num_cpus = 8"
   ]
  },
  {
   "attachments": {},
   "cell_type": "markdown",
   "metadata": {},
   "source": [
    "In order to obtain the complexity analysis plots, it is necessary to dump the structures in a hdf5 data file to a folder of cifs so that CrystIT can operate on it. We perform this first. Please run predict_reproduce.py on a band gap model and a formation energy model and preserve the file Long_Range_Coefficients.csv that gets produced each time. Please rename the output from the band gap model \"Long_Range_Coefficients_formationenergy.csv\" and the output from the formation energy model \"Long_Range_Coefficients_bandgap.csv\" This file contains the long-range coefficients for each attention head and a pickled pymatgen structure for every crystal in the dataset. Our first objective is to obtain the primitive unit cell from all of these structures and dump them into folders cifs/egap and cifs/eform respectively"
   ]
  },
  {
   "cell_type": "code",
   "execution_count": null,
   "metadata": {},
   "outputs": [],
   "source": [
    "from multiprocessing import cpu_count,Process, Pool, set_start_method\n",
    "\n",
    "#need a pure function for multiprocessing to work properly, rather than an instance method\n",
    "def primitive_structure_fun(x):\n",
    "    return x.get_primitive_structure()\n",
    "\n",
    "#Creating the primitive structures from the supercells takes a while\n",
    "df_bandgap = pd.read_csv(\"Long_Range_Coefficients_bandgap.csv\")\n",
    "structure = df_bandgap[\"struc_pickle\"].progress_apply(lambda x: pk.loads(eval(x)))\n",
    "primitive_structure = tqdm(Pool(num_cpus).map(primitive_structure_fun,structure),total=len(structure)) #Multiprocessing\n",
    "df_bandgap[\"primitive\"] = primitive_structure\n",
    "df_bandgap[\"structure\"] = structure\n",
    "df_bandgap[\"primitive_pickle\"] = [pk.dumps(i) for i in primitive_structure]\n",
    "\n",
    "#The result of this operation is dumped to a seperate CSV to avoid having to do this lengthy process again\n",
    "df_bandgap.to_csv(\"Long_Range_Coefficients_bandgap_with_primitives.csv\")\n",
    "\n",
    "#Creating the primitive structures from the supercells takes a while\n",
    "df_formationenergy = pd.read_csv(\"Long_Range_Coefficients_formationenergy.csv\")\n",
    "structure = df_formationenergy[\"struc_pickle\"].progress_apply(lambda x: pk.loads(eval(x)))\n",
    "primitive_structure = tqdm(Pool(num_cpus).map(primitive_structure_fun,structure),total=len(structure)) #Multiprocessing\n",
    "df_formationenergy[\"primitive\"] = primitive_structure\n",
    "df_formationenergy[\"structure\"] = structure\n",
    "df_formationenergy[\"primitive_pickle\"] = [pk.dumps(i) for i in primitive_structure]\n",
    "\n",
    "#The result of this operation is dumped to a seperate CSV to avoid having to do this lengthy process again\n",
    "df_formationenergy.to_csv(\"Long_Range_Coefficients_formationenergy_with_primitives.csv\")"
   ]
  },
  {
   "attachments": {},
   "cell_type": "markdown",
   "metadata": {},
   "source": [
    "The two csv files generated above with primitives already present can be loaded in with the code below if you wish to skip the first step in future. You do not need to run the next block of code "
   ]
  },
  {
   "cell_type": "code",
   "execution_count": null,
   "metadata": {},
   "outputs": [],
   "source": [
    "df_bandgap = pd.read_csv(\"Long_Range_Coefficients_bandgap_with_primitives.csv\")\n",
    "df_bandgap[\"structure\"] = df_bandgap[\"struc_pickle\"].apply(lambda x: pk.loads(eval(x)))\n",
    "df_bandgap[\"Primitive\"] = df_bandgap[\"primitive_pickle\"].apply(lambda x: pk.loads(eval(x)))\n",
    "df_bandgap = df_bandgap.drop(columns = \"struc_pickle\")\n",
    "df_bandgap = df_bandgap.drop(columns = \"primitive_pickle\")\n",
    "\n",
    "df_formationenergy = pd.read_csv(\"Long_Range_Coefficients_formationenergy_with_primitives.csv\")\n",
    "df_formationenergy[\"structure\"] = df_formationenergy[\"struc_pickle\"].apply(lambda x: pk.loads(eval(x)))\n",
    "df_formationenergy[\"Primitive\"] = df_formationenergy[\"primitive_pickle\"].apply(lambda x: pk.loads(eval(x)))\n",
    "df_formationenergy = df_formationenergy.drop(columns = \"struc_pickle\")\n",
    "df_formationenergy = df_formationenergy.drop(columns = \"primitive_pickle\")\n"
   ]
  },
  {
   "attachments": {},
   "cell_type": "markdown",
   "metadata": {},
   "source": [
    "Live copy is made to avoid having to recompute everything if something goes wrong"
   ]
  },
  {
   "cell_type": "code",
   "execution_count": null,
   "metadata": {},
   "outputs": [],
   "source": [
    "df_live_formationenergy = df_formationenergy.copy()\n",
    "df_live_bandgap = df_bandgap.copy()"
   ]
  },
  {
   "attachments": {},
   "cell_type": "markdown",
   "metadata": {},
   "source": [
    "computes the sum of the long-range coefficients across each attention head"
   ]
  },
  {
   "cell_type": "code",
   "execution_count": null,
   "metadata": {},
   "outputs": [],
   "source": [
    "df_live_bandgap[\"1m\"] = df_live_bandgap[[\"y11\",\"y12\",\"y13\"]].sum(axis=1)\n",
    "df_live_bandgap[\"2m\"] = df_live_bandgap[[\"y21\",\"y22\",\"y23\"]].sum(axis=1)\n",
    "\n",
    "df_live_formationenergy[\"1m\"] = df_live_formationenergy[[\"y11\",\"y12\",\"y13\"]].sum(axis=1)\n",
    "df_live_formationenergy[\"2m\"] = df_live_formationenergy[[\"y21\",\"y22\",\"y23\"]].sum(axis=1)"
   ]
  },
  {
   "attachments": {},
   "cell_type": "markdown",
   "metadata": {},
   "source": [
    "This code dumps all of the primitive unit cells as cifs to the specified folders, with names corresponding to the index of the structure in the dataframe so that the complexities can be read in later. Once you have the cif folders, CrystIT must be downloaded and run on the cif folders seperatly, and the output csvs must be put somewhere accessible to this notebook. CrystIT is a software package so can't be used inline here. CrystIT has been redistributed in this repo as per the liscense. Please use a seperate virtual environment to the one provided in this repo to run CrystIT, as is unknown if CrystIT requirements interfere with site-net training. As CrystIT is an independant software package that runs on cifs in folders this virtual env will not be interacting with any components of site-net. Please refer to https://github.com/GKieslich/crystIT for instructions on the usage of CrystIT"
   ]
  },
  {
   "cell_type": "code",
   "execution_count": null,
   "metadata": {},
   "outputs": [],
   "source": [
    "from pymatgen.io.cif import CifWriter\n",
    "from multiprocessing import Pool\n",
    "import os\n",
    "\n",
    "#Export structure to cif and calculate symettries\n",
    "def cif_save_with_sym(params):\n",
    "    #Smuggling in multiple parameters with just one, needed for imap\n",
    "    structure,filename,filename_prefix = params\n",
    "    CifWriter(structure,symprec=0.05).write_file(str(filename_prefix) + str(filename) + \".cif\")\n",
    "    return 1\n",
    "\n",
    "try:\n",
    "    os.makedirs(\"cifs/bandgap\")\n",
    "except:\n",
    "    pass\n",
    "try:\n",
    "    os.makedirs(\"cifs/formationenergy\")\n",
    "except:\n",
    "    pass\n",
    "\n",
    "#Hacky parralel list comprehension over a function, assigning output to a dummy variable coaxes it to evaluate the otherwise lazy imap\n",
    "_ = tqdm(list(Pool(1).map(cif_save_with_sym,[[i,j,\"cifs/bandgap/\"] for i,j in zip(df_live_bandgap[\"Primitive\"],df_live_bandgap.index)])))\n",
    "_ = tqdm(list(Pool(1).map(cif_save_with_sym,[[i,j,\"cifs/formationenergy/\"] for i,j in zip(df_live_formationenergy[\"Primitive\"],df_live_formationenergy.index)])))"
   ]
  },
  {
   "attachments": {},
   "cell_type": "markdown",
   "metadata": {},
   "source": [
    "Computes Primitive unit cell volumes"
   ]
  },
  {
   "cell_type": "code",
   "execution_count": null,
   "metadata": {},
   "outputs": [],
   "source": [
    "df_live_bandgap[\"Primitive_Volume\"] = df_live_bandgap[\"Primitive\"].progress_apply(lambda x: x.volume)\n",
    "\n",
    "df_live_formationenergy[\"Primitive_Volume\"] = df_live_formationenergy[\"Primitive\"].progress_apply(lambda x: x.volume)\n"
   ]
  },
  {
   "attachments": {},
   "cell_type": "markdown",
   "metadata": {},
   "source": [
    "This code will reproduce the plot from the paper. Please change the names of the variables below to the path of the outputs from CrystIT"
   ]
  },
  {
   "cell_type": "code",
   "execution_count": null,
   "metadata": {},
   "outputs": [],
   "source": [
    "complexities_bandgap = \"\" #Insert path to output from CrystIT for band gap here\n",
    "complexities_formationenergy = \"\" #Insert path to output from CrystIT for formation energy here\n",
    "\n",
    "font = {'size'   : 16}\n",
    "mlp.rc('font', **font)\n",
    "mlp.rcParams['axes.linewidth'] = 1.5\n",
    "\n",
    "fig,ax = plt.subplots(2, 2, sharex=False, sharey=True,gridspec_kw={'wspace':0.1, 'hspace':0.1},figsize=(12,12))\n",
    "\n",
    "#Plot the complexities\n",
    "\n",
    "import re\n",
    "complexity = pd.read_csv(complexities_bandgap,sep=\";\")\n",
    "complexity.index = complexity[\" Path\"].apply(lambda x: int(re.findall(r'\\d+',x)[0])).sort_index() #Makes sure the index matches the cif file names\n",
    "complexity = complexity.sort_index()\n",
    "def na_filter(series,filter):\n",
    "    return series[filter.notna()]\n",
    "\n",
    "x = na_filter(complexity[\" I_conf\"],complexity[\" I_conf\"])\n",
    "y = na_filter(df_live_bandgap[\"2m\"],complexity[\" I_comb\"])\n",
    "print(len(complexity[\" I_comb\"]))\n",
    "print(len(x))\n",
    "print(len(df_live_bandgap[\"2m\"]))\n",
    "print(len(y))\n",
    "ax[0,0].hist2d(na_filter(x,x),na_filter(y,x),bins=[np.linspace(0,10,100),np.linspace(0,24,100)],norm=mlp.colors.LogNorm())\n",
    "ax[0,0].set_ylim(0,6)\n",
    "ax[0,0].set_xlim(0,10)\n",
    "ax[0,0].set_ylabel(\"LR coefficient\")\n",
    "#ax[0,0].set_xlabel(\"Configurational Complexity\")\n",
    "z = np.polyfit(x, y, 1)\n",
    "p = np.poly1d(z)\n",
    "ax[0,0].plot([0,30], p([0,30]),color='red')\n",
    "\n",
    "complexity = pd.read_csv(complexities_formationenergy,sep=\";\")\n",
    "complexity.index = complexity[\" Path\"].apply(lambda x: int(re.findall(r'\\d+',x)[0])).sort_index() #Makes sure the index matches the cif file names\n",
    "complexity = complexity.sort_index()\n",
    "\n",
    "x = na_filter(complexity[\" I_conf\"],complexity[\" I_conf\"])\n",
    "y = na_filter(df_live_formationenergy[\"2m\"],complexity[\" I_comb\"])\n",
    "ax[1,0].hist2d(na_filter(x,x),na_filter(y,x),bins=[np.linspace(0,10,100),np.linspace(0,24,100)],norm=mlp.colors.LogNorm())\n",
    "ax[1,0].set_ylim(0,6)\n",
    "ax[1,0].set_xlim(0,10)\n",
    "ax[1,0].set_ylabel(\"long-range coefficient\")\n",
    "ax[1,0].yaxis.labelpad = 10\n",
    "ax[1,0].set_xlabel(\"configurational complexity\")\n",
    "ax[1,0].xaxis.labelpad = 7.53\n",
    "z = np.polyfit(x, y, 1)\n",
    "p = np.poly1d(z)\n",
    "ax[1,0].plot([0,30], p([0,30]),color='red')\n",
    "\n",
    "x = df_live_bandgap[\"Primitive_Volume\"]**(1/3)\n",
    "y = df_live_bandgap[\"2m\"]\n",
    "\n",
    "ax[0,1].hist2d(x,y,bins=[np.linspace(0,20,100),np.linspace(0,24,100)],norm=mlp.colors.LogNorm())\n",
    "z = np.polyfit(x, y, 1)\n",
    "p = np.poly1d(z)\n",
    "ax[0,1].plot([0,30], p([0,30]),color='red')\n",
    "#ax[0,1].set_xlabel(\"cube root of unit cell volume (Å)\")\n",
    "ax[0,1].set_ylim(0,8)\n",
    "ax[0,1].set_xlim(0,20)\n",
    "\n",
    "x = df_live_formationenergy[\"Primitive_Volume\"]**(1/3)\n",
    "y = df_live_formationenergy[\"2m\"]\n",
    "\n",
    "ax[1,1].hist2d(x,y,bins=[np.linspace(0,20,100),np.linspace(0,24,100)],norm=mlp.colors.LogNorm())\n",
    "z = np.polyfit(x, y, 1)\n",
    "p = np.poly1d(z)\n",
    "ax[1,1].plot([0,30], p([0,30]),color='red')\n",
    "ax[1,1].set_xlabel(\"cube root of minimal $P1$ unit cell volume (Å)\")\n",
    "ax[1,1].set_ylim(0,24)\n",
    "ax[1,1].set_xlim(0,20)\n",
    "\n",
    "#ax[0,0].set_xlabel(\"configurational complexity\")\n",
    "#ax[0,0].xaxis.set_label_position('top')\n",
    "#ax[0,0].xaxis.labelpad = 15\n",
    "#ax[0,1].set_xlabel(\"cube root of primitive unit cell volume\")\n",
    "#ax[0,1].xaxis.set_label_position('top')\n",
    "#ax[0,1].xaxis.labelpad = 15\n",
    "ax[0,0].set_ylabel(\"band gap prediction task\")\n",
    "ax[0,0].yaxis.labelpad = 50\n",
    "ax[1,0].set_ylabel(\"formation energy prediction task\")\n",
    "ax[1,0].yaxis.labelpad = 50\n",
    "\n",
    "for i in range(2):\n",
    "    for j in range(2):\n",
    "        ax[i,j].tick_params(length=12,width=1.5)\n",
    "        ax[i,j].tick_params(which=\"minor\",length=6,width=1.5)\n",
    "        ax[i,j].xaxis.set_major_locator(plt.MaxNLocator(5))\n",
    "        ax[i,j].xaxis.set_minor_locator(plt.MaxNLocator(10))\n",
    "        ax[i,j].yaxis.set_major_locator(plt.MaxNLocator(4))\n",
    "        ax[i,j].yaxis.set_minor_locator(plt.MaxNLocator(8))\n",
    "\n",
    "shadowaxes = fig.add_subplot(111, xticks=[], yticks=[], frame_on=False)\n",
    "shadowaxes.yaxis.labelpad = 35\n",
    "shadowaxes.xaxis.labelpad = 25\n",
    "#shadowaxes.xaxis.label.set_size(22)\n",
    "#shadowaxes.yaxis.label.set_size(22)\n",
    "shadowaxes.set_ylabel(\"long-range coefficient\")\n",
    "cbar_ax = fig.add_axes([0.93, 0.11, 0.02, 0.77])\n",
    "\n",
    "sm = plt.cm.ScalarMappable(cmap=\"viridis\", norm=mlp.colors.LogNorm(1,1000))\n",
    "cb = fig.colorbar(sm,cax=cbar_ax)\n",
    "cb.ax.tick_params(length=10,width=1.5)\n",
    "cb.ax.tick_params(which=\"minor\",length=6,width=1.5)\n",
    "plt.savefig(\"Long Range Analysis\")\n",
    "plt.show()"
   ]
  }
 ],
 "metadata": {
  "kernelspec": {
   "display_name": "pytorch_2201",
   "language": "python",
   "name": "python3"
  },
  "language_info": {
   "codemirror_mode": {
    "name": "ipython",
    "version": 3
   },
   "file_extension": ".py",
   "mimetype": "text/x-python",
   "name": "python",
   "nbconvert_exporter": "python",
   "pygments_lexer": "ipython3",
   "version": "3.8.12"
  },
  "orig_nbformat": 4
 },
 "nbformat": 4,
 "nbformat_minor": 2
}
